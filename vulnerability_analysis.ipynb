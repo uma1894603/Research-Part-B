{
 "cells": [
  {
   "cell_type": "markdown",
   "id": "5e888fee",
   "metadata": {},
   "source": [
    "# Vulnerability Data Analysis\n",
    "\n",
    "This notebook demonstrates data preparation, cleaning, and exploratory data analysis (EDA) on the provided dataset of vulnerabilities affecting iOS and macOS (from NVD and related sources)."
   ]
  },
  {
   "cell_type": "code",
   "execution_count": null,
   "id": "bd919f9c",
   "metadata": {},
   "outputs": [],
   "source": [
    "import pandas as pd\n",
    "import matplotlib.pyplot as plt\n",
    "\n",
    "# Display plots inline\n",
    "%matplotlib inline\n"
   ]
  },
  {
   "cell_type": "markdown",
   "id": "81263699",
   "metadata": {},
   "source": [
    "## Step 1: Load Dataset"
   ]
  },
  {
   "cell_type": "code",
   "execution_count": null,
   "id": "0c6b1605",
   "metadata": {},
   "outputs": [],
   "source": [
    "df = pd.read_csv(\"nvd_vulnerabilities_with_os.csv\")\n",
    "\n",
    "print(\"Initial Data Overview:\")\n",
    "display(df.head())\n",
    "\n",
    "print(\"\\nDataset Info:\")\n",
    "print(df.info())\n"
   ]
  },
  {
   "cell_type": "markdown",
   "id": "84b0ba68",
   "metadata": {},
   "source": [
    "## Step 2: Data Cleaning"
   ]
  },
  {
   "cell_type": "code",
   "execution_count": null,
   "id": "e2d5e1d8",
   "metadata": {},
   "outputs": [],
   "source": [
    "# Drop duplicates\n",
    "df.drop_duplicates(inplace=True)\n",
    "\n",
    "# Handle missing values (categorical -> 'Unknown')\n",
    "df.fillna(\"Unknown\", inplace=True)\n",
    "\n",
    "# Standardize column names\n",
    "df.columns = [col.strip().lower().replace(\" \", \"_\") for col in df.columns]\n",
    "\n",
    "df.head()\n"
   ]
  },
  {
   "cell_type": "markdown",
   "id": "484c96e9",
   "metadata": {},
   "source": [
    "## Step 3: Feature Engineering"
   ]
  },
  {
   "cell_type": "code",
   "execution_count": null,
   "id": "14838bb2",
   "metadata": {},
   "outputs": [],
   "source": [
    "# Extract year if 'published_date' exists\n",
    "if 'published_date' in df.columns:\n",
    "    df['year'] = pd.to_datetime(df['published_date'], errors='coerce').dt.year\n",
    "\n",
    "# Normalize OS column\n",
    "if 'os' in df.columns:\n",
    "    df['os'] = df['os'].str.upper().str.strip()\n",
    "\n",
    "df.head()\n"
   ]
  },
  {
   "cell_type": "markdown",
   "id": "b2ad9bb8",
   "metadata": {},
   "source": [
    "## Step 4: Exploratory Data Analysis\n",
    "### Vulnerabilities by Year"
   ]
  },
  {
   "cell_type": "code",
   "execution_count": null,
   "id": "955f035f",
   "metadata": {},
   "outputs": [],
   "source": [
    "if 'year' in df.columns:\n",
    "    vulns_by_year = df['year'].value_counts().sort_index()\n",
    "    vulns_by_year.plot(kind='bar', figsize=(10,5), title=\"Vulnerabilities by Year\")\n",
    "    plt.xlabel(\"Year\")\n",
    "    plt.ylabel(\"Count\")\n",
    "    plt.show()\n",
    "    display(vulns_by_year)\n"
   ]
  },
  {
   "cell_type": "markdown",
   "id": "581b001b",
   "metadata": {},
   "source": [
    "### Vulnerabilities by Operating System"
   ]
  },
  {
   "cell_type": "code",
   "execution_count": null,
   "id": "fcdfbcb6",
   "metadata": {},
   "outputs": [],
   "source": [
    "if 'os' in df.columns:\n",
    "    vulns_by_os = df['os'].value_counts()\n",
    "    vulns_by_os.plot(kind='bar', figsize=(8,5), title=\"Vulnerabilities by OS\")\n",
    "    plt.xlabel(\"Operating System\")\n",
    "    plt.ylabel(\"Count\")\n",
    "    plt.show()\n",
    "    display(vulns_by_os)\n"
   ]
  },
  {
   "cell_type": "markdown",
   "id": "9e644ef5",
   "metadata": {},
   "source": [
    "### Vulnerabilities by Type"
   ]
  },
  {
   "cell_type": "code",
   "execution_count": null,
   "id": "9c0ad342",
   "metadata": {},
   "outputs": [],
   "source": [
    "if 'vulnerability_type' in df.columns:\n",
    "    vulns_by_type = df['vulnerability_type'].value_counts()\n",
    "    vulns_by_type.plot(kind='bar', figsize=(12,6), title=\"Vulnerability Types\")\n",
    "    plt.xlabel(\"Type\")\n",
    "    plt.ylabel(\"Count\")\n",
    "    plt.show()\n",
    "    display(vulns_by_type)\n"
   ]
  },
  {
   "cell_type": "markdown",
   "id": "2277c841",
   "metadata": {},
   "source": [
    "### Vulnerabilities by Severity"
   ]
  },
  {
   "cell_type": "code",
   "execution_count": null,
   "id": "545a478f",
   "metadata": {},
   "outputs": [],
   "source": [
    "if 'severity' in df.columns:\n",
    "    vulns_by_severity = df['severity'].value_counts()\n",
    "    vulns_by_severity.plot(kind='bar', figsize=(8,5), title=\"Vulnerabilities by Severity\")\n",
    "    plt.xlabel(\"Severity\")\n",
    "    plt.ylabel(\"Count\")\n",
    "    plt.show()\n",
    "    display(vulns_by_severity)\n"
   ]
  },
  {
   "cell_type": "markdown",
   "id": "1fc28149",
   "metadata": {},
   "source": [
    "## Step 5: Summary of Findings"
   ]
  },
  {
   "cell_type": "code",
   "execution_count": null,
   "id": "4719f0a8",
   "metadata": {},
   "outputs": [],
   "source": [
    "print(\"Summary of Vulnerability Data:\")\n",
    "\n",
    "if 'year' in df.columns:\n",
    "    print(\"\\nVulnerabilities by Year:\")\n",
    "    print(vulns_by_year)\n",
    "\n",
    "if 'os' in df.columns:\n",
    "    print(\"\\nVulnerabilities by OS:\")\n",
    "    print(vulns_by_os)\n",
    "\n",
    "if 'vulnerability_type' in df.columns:\n",
    "    print(\"\\nVulnerabilities by Type:\")\n",
    "    print(vulns_by_type)\n",
    "\n",
    "if 'severity' in df.columns:\n",
    "    print(\"\\nVulnerabilities by Severity:\")\n",
    "    print(vulns_by_severity)\n"
   ]
  }
 ],
 "metadata": {},
 "nbformat": 4,
 "nbformat_minor": 5
}
